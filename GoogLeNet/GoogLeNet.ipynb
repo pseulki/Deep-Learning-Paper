{
 "cells": [
  {
   "cell_type": "markdown",
   "metadata": {},
   "source": [
    "# GoogLeNet"
   ]
  },
  {
   "cell_type": "code",
   "execution_count": 1,
   "metadata": {},
   "outputs": [],
   "source": [
    "# Load Libraries\n",
    "\n",
    "import torch\n",
    "import torchvision\n",
    "import torchvision.transforms as transforms\n",
    "\n",
    "# For Seeing images\n",
    "import matplotlib.pyplot as plt\n",
    "import numpy as np"
   ]
  },
  {
   "cell_type": "code",
   "execution_count": 2,
   "metadata": {},
   "outputs": [
    {
     "name": "stdout",
     "output_type": "stream",
     "text": [
      "0.3.1\n"
     ]
    }
   ],
   "source": [
    "print(torch.__version__)"
   ]
  },
  {
   "cell_type": "markdown",
   "metadata": {},
   "source": [
    "## 1. Load and normalize CIFAR10\n",
    "\n",
    "- Reference source: https://pytorch.org/tutorials/beginner/blitz/cifar10_tutorial.html"
   ]
  },
  {
   "cell_type": "code",
   "execution_count": 3,
   "metadata": {},
   "outputs": [],
   "source": [
    "#Hyperparameter\n",
    "batch_size= 128 #When I want to see pictures below, set 128 when training. "
   ]
  },
  {
   "cell_type": "code",
   "execution_count": 4,
   "metadata": {},
   "outputs": [
    {
     "name": "stdout",
     "output_type": "stream",
     "text": [
      "Files already downloaded and verified\n",
      "Files already downloaded and verified\n"
     ]
    }
   ],
   "source": [
    "# The output of torchvision datasets are PILImage images of range [0, 1].\n",
    "# We transform them to Tensors of normalized range [-1, 1].\n",
    "\n",
    "transform = transforms.Compose(\n",
    "    [transforms.ToTensor(),\n",
    "     transforms.Normalize((0.5, 0.5, 0.5), (0.5, 0.5, 0.5))])\n",
    "\n",
    "trainset = torchvision.datasets.CIFAR10(root='./data', train=True,\n",
    "                                        download=True, transform=transform)\n",
    "trainloader = torch.utils.data.DataLoader(trainset, batch_size=batch_size,\n",
    "                                          shuffle=True, num_workers=2)\n",
    "\n",
    "testset = torchvision.datasets.CIFAR10(root='./data', train=False,\n",
    "                                       download=True, transform=transform)\n",
    "testloader = torch.utils.data.DataLoader(testset, batch_size=batch_size,\n",
    "                                         shuffle=False, num_workers=2)\n",
    "\n",
    "classes = ('plane', 'car', 'bird', 'cat',\n",
    "           'deer', 'dog', 'frog', 'horse', 'ship', 'truck')"
   ]
  },
  {
   "cell_type": "code",
   "execution_count": 5,
   "metadata": {},
   "outputs": [
    {
     "name": "stdout",
     "output_type": "stream",
     "text": [
      "Trainset torch.Size([3, 32, 32]) 50000\n",
      "Testset torch.Size([3, 32, 32]) 10000\n"
     ]
    }
   ],
   "source": [
    "#Check Dataset\n",
    "print(\"Trainset\", trainset.__getitem__(0)[0].size(), trainset.__len__())\n",
    "print(\"Testset\", testset.__getitem__(0)[0].size(), testset.__len__())"
   ]
  },
  {
   "cell_type": "code",
   "execution_count": 28,
   "metadata": {},
   "outputs": [
    {
     "name": "stdout",
     "output_type": "stream",
     "text": [
      "horse plane plane truck\n"
     ]
    },
    {
     "data": {
      "image/png": "[encoded data removed]",
      "text/plain": [
       "<Figure size 432x288 with 1 Axes>"
      ]
     },
     "metadata": {},
     "output_type": "display_data"
    }
   ],
   "source": [
    "# Let us show some of the training images, for fun.\n",
    "# functions to show an image\n",
    "\n",
    "def imshow(img):\n",
    "    img = img / 2 + 0.5     # unnormalize\n",
    "    npimg = img.numpy()\n",
    "    plt.imshow(np.transpose(npimg, (1, 2, 0)))\n",
    "\n",
    "\n",
    "# get some random training images\n",
    "dataiter = iter(trainloader)\n",
    "images, labels = dataiter.next()\n",
    "\n",
    "# show images\n",
    "imshow(torchvision.utils.make_grid(images))\n",
    "# print labels\n",
    "print(' '.join('%5s' % classes[labels[j]] for j in range(4)))"
   ]
  },
  {
   "cell_type": "markdown",
   "metadata": {},
   "source": [
    "## 2. GoogLeNet\n",
    "\n",
    "![GoogLeNet](./InceptionModule_GoogLeNet.png)\n",
    "\n",
    "- Reference source: https://github.com/GunhoChoi/PyTorch-FastCampus/blob/master/04_CNN_Advanced/2_GoogleNet.ipynb \n",
    "- added auxiliary classifier to the model: https://github.com/pytorch/vision/blob/master/torchvision/models/inception.py"
   ]
  },
  {
   "cell_type": "markdown",
   "metadata": {},
   "source": [
    "### 1) Base module"
   ]
  },
  {
   "cell_type": "code",
   "execution_count": 5,
   "metadata": {},
   "outputs": [],
   "source": [
    "import torch.nn as nn\n",
    "import torch.optim as optim\n",
    "import torch.nn.init as init\n",
    "from torch.autograd import Variable\n"
   ]
  },
  {
   "cell_type": "code",
   "execution_count": 6,
   "metadata": {},
   "outputs": [],
   "source": [
    "#torch.nn.Conv2d(in_channels, out_channels, kernel_size, stride=1, padding=0)\n",
    "\n",
    "def conv_1_1(in_dim,out_dim):\n",
    "    model = nn.Sequential(\n",
    "        nn.Conv2d(in_dim,out_dim,1,1),\n",
    "        nn.ReLU(),\n",
    "    )\n",
    "    return model\n",
    "\n",
    "def conv_1_3(in_dim,mid_dim,out_dim):\n",
    "    model = nn.Sequential(\n",
    "        nn.Conv2d(in_dim,mid_dim,1,1),\n",
    "        nn.ReLU(),\n",
    "        nn.Conv2d(mid_dim,out_dim,3,1,1),\n",
    "        nn.ReLU()\n",
    "    )\n",
    "    return model\n",
    "    \n",
    "def conv_1_5(in_dim,mid_dim,out_dim):\n",
    "    model = nn.Sequential(\n",
    "        nn.Conv2d(in_dim,mid_dim,1,1),\n",
    "        nn.ReLU(),\n",
    "        nn.Conv2d(mid_dim,out_dim,5,1,2),\n",
    "        nn.ReLU()\n",
    "    )\n",
    "    return model\n",
    "    \n",
    "\n",
    "def max_3_1(in_dim,out_dim):\n",
    "    model = nn.Sequential(\n",
    "        nn.MaxPool2d(3,1,1),\n",
    "        nn.Conv2d(in_dim,out_dim,1,1),\n",
    "        nn.ReLU()\n",
    "    )\n",
    "    return model\n",
    "\n",
    "def aux(in_dim, out_dim):\n",
    "    model = nn.Sequential(\n",
    "        nn.AvgPool2d(5),\n",
    "        nn.Conv2d(in_dim,out_dim,1,1),\n",
    "        nn.ReLU()\n",
    "    )\n",
    "    return model\n",
    "\n",
    "def aux_linear(in_dim, mid_dim, out_dim):\n",
    "    model = nn.Sequential(\n",
    "        nn.Linear(in_dim, mid_dim),\n",
    "        nn.Dropout2d(0.7),\n",
    "        nn.Linear(mid_dim, out_dim)  \n",
    "    )\n",
    "    return model"
   ]
  },
  {
   "cell_type": "markdown",
   "metadata": {},
   "source": [
    "### 2) Inception module"
   ]
  },
  {
   "cell_type": "code",
   "execution_count": 7,
   "metadata": {},
   "outputs": [],
   "source": [
    "class inception_module(nn.Module):\n",
    "    \n",
    "    def __init__(self,in_dim,out_dim_1,mid_dim_3,out_dim_3,mid_dim_5,out_dim_5,pool):\n",
    "        super(inception_module,self).__init__()\n",
    "\n",
    "        self.conv_1 = conv_1_1(in_dim,out_dim_1)\n",
    "        self.conv_1_3 = conv_1_3(in_dim,mid_dim_3,out_dim_3)\n",
    "        self.conv_1_5 = conv_1_5(in_dim,mid_dim_5,out_dim_5)\n",
    "        self.max_3_1 = max_3_1(in_dim,pool)\n",
    "\n",
    "    def forward(self,x):\n",
    "        out_1 = self.conv_1(x)\n",
    "        out_2 = self.conv_1_3(x)\n",
    "        out_3 = self.conv_1_5(x)\n",
    "        out_4 = self.max_3_1(x)\n",
    "        output = torch.cat([out_1,out_2,out_3,out_4],1)\n",
    "        \n",
    "        return output"
   ]
  },
  {
   "cell_type": "markdown",
   "metadata": {},
   "source": [
    "### 3) GoogLeNet"
   ]
  },
  {
   "cell_type": "code",
   "execution_count": 8,
   "metadata": {},
   "outputs": [],
   "source": [
    "class GoogLeNet(nn.Module):\n",
    "    def __init__(self, base_dim, num_classes=10, aux_logits=True):\n",
    "        super(GoogLeNet, self).__init__()\n",
    "        self.aux_logits = aux_logits  \n",
    "        self.layer_1 = nn.Sequential(\n",
    "            nn.Conv2d(3,base_dim,7,1,3),\n",
    "            nn.MaxPool2d(3,1,1),\n",
    "            nn.Conv2d(base_dim,base_dim*3,3,1,1),\n",
    "            nn.MaxPool2d(3,1,1),\n",
    "        )\n",
    "\n",
    "        self.layer_2 = nn.Sequential(\n",
    "            inception_module(base_dim*3,64,96,128,16,32,32),\n",
    "            inception_module(base_dim*4,128,128,192,32,96,64),\n",
    "            nn.MaxPool2d(3,2,1),\n",
    "        )\n",
    "\n",
    "        self.layer_3 = inception_module(480,192,96,208,16,48,64)\n",
    "\n",
    "        if aux_logits:\n",
    "            self.avgout1 = nn.AvgPool2d(5)\n",
    "            self.conv1 = nn.Conv2d(512,128,1,1)\n",
    "            self.auxlogits1 = aux_linear(1152,1024,num_classes)\n",
    "\n",
    "\n",
    "        self.layer_4 = nn.Sequential(\n",
    "            inception_module(512,160,112,224,24,64,64),\n",
    "            inception_module(512,128,128,256,24,64,64),\n",
    "            inception_module(512,112,144,288,32,64,64)\n",
    "        )\n",
    "\n",
    "        if aux_logits:\n",
    "            self.avgout2 = nn.AvgPool2d(5)\n",
    "            self.conv2 = nn.Conv2d(528,128,1,1)\n",
    "            self.auxlogits2 = aux_linear(1152,1024,num_classes)\n",
    "\n",
    "        self.layer_5 = nn.Sequential(\n",
    "            inception_module(528,256,160,320,32,128,128),\n",
    "            nn.MaxPool2d(3,2,1),\n",
    "        )\n",
    "\n",
    "        self.layer_6 = nn.Sequential(\n",
    "            inception_module(832,256,160,320,32,128,128),\n",
    "            inception_module(832,384,192,384,48,128,128), \n",
    "            nn.AvgPool2d(8,1),\n",
    "        )\n",
    "\n",
    "        self.layer_7 = nn.Dropout2d(0.4)\n",
    "\n",
    "        self.fc_layer = nn.Linear(1024,num_classes)\n",
    "                \n",
    "        \n",
    "    def forward(self, x):\n",
    "        out = self.layer_1(x)   #[4, 192, 32, 32]\n",
    "        out = self.layer_2(out) #[4, 480, 16, 16]\n",
    "        out = self.layer_3(out) # [4, 512, 16, 16]\n",
    "        if self.aux_logits:\n",
    "            avg1 = self.avgout1(out) #[4, 512, 3, 3]\n",
    "            conv1 = self.conv1(avg1) #[4, 128, 3, 3]\n",
    "            conv1 = conv1.view(conv1.size(0),-1) #[4, 1152]\n",
    "            aux1 = self.auxlogits1(conv1) #[4, 10]\n",
    "\n",
    "        \n",
    "        out = self.layer_4(out) #[4, 528, 16, 16]\n",
    "        if self.aux_logits:\n",
    "            avg2 = self.avgout2(out) #[4, 528, 3, 3]\n",
    "            conv2 = self.conv2(avg2) #[4, 128, 3, 3]\n",
    "            conv2 = conv2.view(conv2.size(0),-1) #[4, 1152]\n",
    "            aux2 = self.auxlogits2(conv2) #[4, 10]\n",
    "            \n",
    "        out = self.layer_5(out) #[4, 832, 8, 8]\n",
    "        out = self.layer_6(out) #[4, 1024, 1, 1]\n",
    "        out = self.layer_7(out) #[4, 1024, 1, 1]\n",
    "        out = out.view(out.size(0),-1) #[4, 1024]\n",
    "        out = self.fc_layer(out)\n",
    "        \n",
    "        return out, aux1, aux2\n",
    "        \n",
    "    \n",
    "model = GoogLeNet(base_dim=64).cuda()"
   ]
  },
  {
   "cell_type": "code",
   "execution_count": null,
   "metadata": {},
   "outputs": [],
   "source": [
    "#for i in model.named_children():\n",
    "#print(i)"
   ]
  },
  {
   "cell_type": "markdown",
   "metadata": {},
   "source": [
    "### 4. Optimizer & Loss"
   ]
  },
  {
   "cell_type": "code",
   "execution_count": 28,
   "metadata": {},
   "outputs": [],
   "source": [
    "#Hyper parameter\n",
    "learning_rate = 0.00001\n",
    "epoch = 50"
   ]
  },
  {
   "cell_type": "code",
   "execution_count": 29,
   "metadata": {},
   "outputs": [],
   "source": [
    "loss_func = nn.CrossEntropyLoss()\n",
    "optimizer = optim.Adam(model.parameters(),lr=learning_rate)"
   ]
  },
  {
   "cell_type": "markdown",
   "metadata": {},
   "source": [
    "### 5. Train"
   ]
  },
  {
   "cell_type": "code",
   "execution_count": 11,
   "metadata": {},
   "outputs": [],
   "source": [
    "import time"
   ]
  },
  {
   "cell_type": "code",
   "execution_count": 33,
   "metadata": {},
   "outputs": [
    {
     "name": "stderr",
     "output_type": "stream",
     "text": [
      "/home/pseulki/anaconda3/envs/myenv/lib/python3.6/site-packages/torch/serialization.py:159: UserWarning: Couldn't retrieve source code for container of type GoogLeNet. It won't be checked for correctness upon loading.\n",
      "  \"type \" + obj.__name__ + \". It won't be checked \"\n",
      "/home/pseulki/anaconda3/envs/myenv/lib/python3.6/site-packages/torch/serialization.py:159: UserWarning: Couldn't retrieve source code for container of type inception_module. It won't be checked for correctness upon loading.\n",
      "  \"type \" + obj.__name__ + \". It won't be checked \"\n"
     ]
    },
    {
     "name": "stdout",
     "output_type": "stream",
     "text": [
      "0 th iter: Best loss: 0.646\n",
      "1 th iter: Best loss: 0.534\n",
      "2 th iter: Best loss: 0.534\n",
      "3 th iter: Best loss: 0.534\n",
      "4 th iter: Best loss: 0.534\n",
      "5 th iter: Best loss: 0.515\n",
      "6 th iter: Best loss: 0.515\n",
      "7 th iter: Best loss: 0.515\n",
      "8 th iter: Best loss: 0.515\n",
      "9 th iter: Best loss: 0.515\n"
     ]
    }
   ],
   "source": [
    "epoch = 10\n",
    "start_time = time.time()\n",
    "best_loss = 999.9\n",
    "\n",
    "for i in range(epoch):\n",
    "    for j,[image,label] in enumerate(trainloader):\n",
    "        x = Variable(image).cuda()\n",
    "        y_= Variable(label).cuda()\n",
    "        \n",
    "        optimizer.zero_grad()\n",
    "        output, aux_1, aux_2 = model.forward(x)\n",
    "        loss = loss_func(output,y_)\n",
    "        aux_loss1 = loss_func(aux_1,y_)\n",
    "        aux_loss2 = loss_func(aux_2,y_)\n",
    "        loss = loss + 0.3*(aux_loss1 + aux_loss2)\n",
    "        loss.backward()\n",
    "        optimizer.step()\n",
    "\n",
    "        if j %10 == 0 and round(loss.data[0],3) < best_loss:\n",
    "            best_loss = round(loss.data[0],3)\n",
    "            torch.save(model,'./googlenet_model_{}.pkl'.format(best_loss))\n",
    "    print(i, \"th iter: Best loss:\",best_loss)\n",
    "end_time = time.time()"
   ]
  },
  {
   "cell_type": "code",
   "execution_count": 34,
   "metadata": {},
   "outputs": [
    {
     "name": "stdout",
     "output_type": "stream",
     "text": [
      "Training time:  969 sec\n"
     ]
    }
   ],
   "source": [
    "print(\"Training time: \", int(end_time - start_time), \"sec\")"
   ]
  },
  {
   "cell_type": "markdown",
   "metadata": {},
   "source": [
    "### 5. Test"
   ]
  },
  {
   "cell_type": "code",
   "execution_count": null,
   "metadata": {},
   "outputs": [],
   "source": [
    "#param_list = list(model.children())\n",
    "#print(param_list)\n",
    "\n"
   ]
  },
  {
   "cell_type": "code",
   "execution_count": 24,
   "metadata": {},
   "outputs": [
    {
     "name": "stdout",
     "output_type": "stream",
     "text": [
      "Accuracy of Test Data: Variable containing:\n",
      " 0.7961\n",
      "[torch.cuda.FloatTensor of size 1 (GPU 0)]\n",
      " \n"
     ]
    }
   ],
   "source": [
    "#Best Model \n",
    "correct = 0\n",
    "total = 0\n",
    "\n",
    "for image,label in testloader:\n",
    "    x = Variable(image,volatile=True).cuda()\n",
    "    y_= Variable(label).cuda()\n",
    "\n",
    "    output, aux1, aux2 = model.forward(x)\n",
    "    _,output_index = torch.max(output,1)\n",
    "        \n",
    "    total += label.size(0)\n",
    "    correct += (output_index == y_).sum().float()\n",
    "    \n",
    "print(\"Accuracy of Test Data: {} \".format(correct/total))"
   ]
  },
  {
   "cell_type": "code",
   "execution_count": 35,
   "metadata": {},
   "outputs": [
    {
     "name": "stdout",
     "output_type": "stream",
     "text": [
      "Accuracy of Test Data: Variable containing:\n",
      " 0.7495\n",
      "[torch.cuda.FloatTensor of size 1 (GPU 0)]\n",
      " \n"
     ]
    }
   ],
   "source": [
    "#Load Model\n",
    "correct = 0\n",
    "total = 0\n",
    "\n",
    "model = torch.load('./googlenet_model_0.515.pkl')\n",
    "\n",
    "for image,label in testloader:\n",
    "    x = Variable(image,volatile=True).cuda()\n",
    "    y_= Variable(label).cuda()\n",
    "\n",
    "    output, _, _ = model.forward(x)\n",
    "    _,output_index = torch.max(output,1)\n",
    "        \n",
    "    total += label.size(0)\n",
    "    correct += (output_index == y_).sum().float()\n",
    "    \n",
    "print(\"Accuracy of Test Data: {} \".format(correct/total))"
   ]
  }
 ],
 "metadata": {
  "kernelspec": {
   "display_name": "Python 3",
   "language": "python",
   "name": "python3"
  },
  "language_info": {
   "codemirror_mode": {
    "name": "ipython",
    "version": 3
   },
   "file_extension": ".py",
   "mimetype": "text/x-python",
   "name": "python",
   "nbconvert_exporter": "python",
   "pygments_lexer": "ipython3",
   "version": "3.6.5"
  }
 },
 "nbformat": 4,
 "nbformat_minor": 2
}
